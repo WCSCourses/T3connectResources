{
  "cells": [
    {
      "cell_type": "raw",
      "metadata": {},
      "source": [
        "---\n",
        "title: \"Dataviz_groupactivity\"\n",
        "server: shiny\n",
        "---"
      ],
      "id": "4311dc53"
    },
    {
      "cell_type": "code",
      "metadata": {},
      "source": [
        "import plotly.io as pio\n",
        "pio.renderers.default = \"plotly_mimetype+notebook_connected\""
      ],
      "id": "4af7f0b5",
      "execution_count": null,
      "outputs": []
    },
    {
      "cell_type": "markdown",
      "metadata": {},
      "source": [
        "---"
      ],
      "id": "d99c2ce3"
    }
  ],
  "metadata": {
    "kernelspec": {
      "name": "python3",
      "language": "python",
      "display_name": "Python 3 (ipykernel)"
    }
  },
  "nbformat": 4,
  "nbformat_minor": 5
}